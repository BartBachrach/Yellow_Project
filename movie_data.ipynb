{
  "nbformat": 4,
  "nbformat_minor": 0,
  "metadata": {
    "colab": {
      "name": "movie_data.ipynb",
      "provenance": [],
      "collapsed_sections": [],
      "authorship_tag": "ABX9TyM8MKdf4bf40R8ujrXlPLNU"
    },
    "kernelspec": {
      "name": "python3",
      "display_name": "Python 3"
    },
    "language_info": {
      "name": "python"
    }
  },
  "cells": [
    {
      "cell_type": "code",
      "execution_count": 1,
      "metadata": {
        "id": "XHJMmT3tU8RC",
        "colab": {
          "base_uri": "https://localhost:8080/"
        },
        "outputId": "9ca2eafa-0cc4-42e4-edef-0eea44333504"
      },
      "outputs": [
        {
          "output_type": "stream",
          "name": "stdout",
          "text": [
            "\r0% [Working]\r            \rGet:1 http://ppa.launchpad.net/c2d4u.team/c2d4u4.0+/ubuntu bionic InRelease [15.9 kB]\n",
            "\r0% [Connecting to archive.ubuntu.com (91.189.91.39)] [Connecting to security.ub\r0% [Connecting to archive.ubuntu.com (91.189.91.39)] [Connecting to security.ub\r                                                                               \rGet:2 https://cloud.r-project.org/bin/linux/ubuntu bionic-cran40/ InRelease [3,626 B]\n",
            "\r0% [Connecting to archive.ubuntu.com (91.189.91.39)] [Connecting to security.ub\r0% [1 InRelease gpgv 15.9 kB] [Connecting to archive.ubuntu.com (91.189.91.39)]\r                                                                               \rHit:3 http://ppa.launchpad.net/cran/libgit2/ubuntu bionic InRelease\n",
            "\r0% [1 InRelease gpgv 15.9 kB] [Connecting to archive.ubuntu.com (91.189.91.39)]\r                                                                               \rGet:4 http://ppa.launchpad.net/deadsnakes/ppa/ubuntu bionic InRelease [15.9 kB]\n",
            "Hit:5 http://ppa.launchpad.net/graphics-drivers/ppa/ubuntu bionic InRelease\n",
            "Get:6 http://ppa.launchpad.net/c2d4u.team/c2d4u4.0+/ubuntu bionic/main Sources [2,077 kB]\n",
            "Get:7 http://ppa.launchpad.net/c2d4u.team/c2d4u4.0+/ubuntu bionic/main amd64 Packages [1,064 kB]\n",
            "Get:8 http://security.ubuntu.com/ubuntu bionic-security InRelease [88.7 kB]\n",
            "Hit:9 http://archive.ubuntu.com/ubuntu bionic InRelease\n",
            "Get:10 http://archive.ubuntu.com/ubuntu bionic-updates InRelease [88.7 kB]\n",
            "Get:11 http://archive.ubuntu.com/ubuntu bionic-backports InRelease [74.6 kB]\n",
            "Ign:12 https://developer.download.nvidia.com/compute/machine-learning/repos/ubuntu1804/x86_64  InRelease\n",
            "Get:13 https://developer.download.nvidia.com/compute/cuda/repos/ubuntu1804/x86_64  InRelease [1,581 B]\n",
            "Hit:14 https://developer.download.nvidia.com/compute/machine-learning/repos/ubuntu1804/x86_64  Release\n",
            "Get:15 http://ppa.launchpad.net/deadsnakes/ppa/ubuntu bionic/main amd64 Packages [45.3 kB]\n",
            "Get:16 http://security.ubuntu.com/ubuntu bionic-security/universe amd64 Packages [1,528 kB]\n",
            "Get:17 http://security.ubuntu.com/ubuntu bionic-security/main amd64 Packages [2,905 kB]\n",
            "Get:18 http://archive.ubuntu.com/ubuntu bionic-updates/restricted amd64 Packages [1,141 kB]\n",
            "Get:19 http://archive.ubuntu.com/ubuntu bionic-updates/main amd64 Packages [3,368 kB]\n",
            "Get:20 http://archive.ubuntu.com/ubuntu bionic-updates/universe amd64 Packages [2,310 kB]\n",
            "Get:21 https://developer.download.nvidia.com/compute/cuda/repos/ubuntu1804/x86_64  Packages [903 kB]\n",
            "Fetched 15.6 MB in 4s (3,573 kB/s)\n",
            "Reading package lists... Done\n"
          ]
        }
      ],
      "source": [
        "import os\n",
        "# Find the latest version of spark 3.0 from http://www.apache.org/dist/spark/ and enter as the spark version\n",
        "# For example:\n",
        "# spark_version = 'spark-3.0.3'\n",
        "spark_version = 'spark-3.0.3'\n",
        "os.environ['SPARK_VERSION']=spark_version\n",
        "\n",
        "# Install Spark and Java\n",
        "!apt-get update\n",
        "!apt-get install openjdk-11-jdk-headless -qq > /dev/null\n",
        "!wget -q http://www.apache.org/dist/spark/$SPARK_VERSION/$SPARK_VERSION-bin-hadoop2.7.tgz\n",
        "!tar xf $SPARK_VERSION-bin-hadoop2.7.tgz\n",
        "!pip install -q findspark\n",
        "\n",
        "# Set Environment Variables\n",
        "import os\n",
        "os.environ[\"JAVA_HOME\"] = \"/usr/lib/jvm/java-11-openjdk-amd64\"\n",
        "os.environ[\"SPARK_HOME\"] = f\"/content/{spark_version}-bin-hadoop2.7\"\n",
        "\n",
        "# Start a SparkSession\n",
        "import findspark\n",
        "findspark.init()"
      ]
    },
    {
      "cell_type": "code",
      "source": [
        "!wget https://jdbc.postgresql.org/download/postgresql-42.2.16.jar"
      ],
      "metadata": {
        "colab": {
          "base_uri": "https://localhost:8080/"
        },
        "id": "Csvhd1gZipkM",
        "outputId": "671b4aed-c9b7-40c6-e56e-d9611ac69d07"
      },
      "execution_count": 2,
      "outputs": [
        {
          "output_type": "stream",
          "name": "stdout",
          "text": [
            "--2022-08-10 00:54:17--  https://jdbc.postgresql.org/download/postgresql-42.2.16.jar\n",
            "Resolving jdbc.postgresql.org (jdbc.postgresql.org)... 72.32.157.228, 2001:4800:3e1:1::228\n",
            "Connecting to jdbc.postgresql.org (jdbc.postgresql.org)|72.32.157.228|:443... connected.\n",
            "HTTP request sent, awaiting response... 200 OK\n",
            "Length: 1002883 (979K) [application/java-archive]\n",
            "Saving to: ‘postgresql-42.2.16.jar’\n",
            "\n",
            "postgresql-42.2.16. 100%[===================>] 979.38K  1.58MB/s    in 0.6s    \n",
            "\n",
            "2022-08-10 00:54:18 (1.58 MB/s) - ‘postgresql-42.2.16.jar’ saved [1002883/1002883]\n",
            "\n"
          ]
        }
      ]
    },
    {
      "cell_type": "code",
      "source": [
        "from pyspark.sql import SparkSession\n",
        "spark = SparkSession.builder.appName(\"Movie-Recs\").config(\"spark.driver.extraClassPath\",\"/content/postgresql-42.2.16.jar\").getOrCreate()"
      ],
      "metadata": {
        "id": "s0RkcREIoi1N"
      },
      "execution_count": 3,
      "outputs": []
    },
    {
      "cell_type": "code",
      "source": [
        "# Read in data from S3 Buckets\n",
        "from pyspark import SparkFiles\n",
        "url =\"https://yellow-movie-data.s3.amazonaws.com/sample_table2.csv\"\n",
        "spark.sparkContext.addFile(url)\n",
        "sample_data_df = spark.read.csv(SparkFiles.get(\"sample_table2.csv\"), sep=\",\", header=True, inferSchema=True)"
      ],
      "metadata": {
        "id": "YT5OOJV8o9PJ"
      },
      "execution_count": 4,
      "outputs": []
    },
    {
      "cell_type": "code",
      "source": [
        "# Show DataFrame\n",
        "sample_data_df.show(20)"
      ],
      "metadata": {
        "colab": {
          "base_uri": "https://localhost:8080/"
        },
        "id": "kGg0bbbOrpWI",
        "outputId": "f36381b8-9091-4c85-d1e1-f0aadd2c5645"
      },
      "execution_count": 5,
      "outputs": [
        {
          "output_type": "stream",
          "name": "stdout",
          "text": [
            "+-----+----+------------+-------+-----+---------+---------------+----------+--------------------+--------------------+-------+--------+-----------------+------------------+---------+---------+--------+------+-------+-------+-----+------+-----+--------+------+-------+------+----+-----------+---+-------+-------+---------+------------------+-----+\n",
            "|  _c0|year|Unnamed: 0.1|movieId|tagId|relevance|            tag|Unnamed: 0|               title|              genres| imdbId|  tmdbId|number of ratings|            rating|Adventure|Animation|Children|Comedy|Fantasy|Romance|Drama|Action|Crime|Thriller|Horror|Mystery|Sci-Fi|IMAX|Documentary|War|Musical|Western|Film-Noir|(no genres listed)|class|\n",
            "+-----+----+------------+-------+-----+---------+---------------+----------+--------------------+--------------------+-------+--------+-----------------+------------------+---------+---------+--------+------+-------+-------+-----+------+-----+--------+------+-------+------+----+-----------+---+-------+-------+---------+------------------+-----+\n",
            "| 7808|2008|        9218|  57534|  849|  0.99625|         remake|     12098|     Eye, The (2008)|Drama|Horror|Thri...| 406759|  9030.0|              424|2.6214622641509435|        0|        0|       0|     0|      0|      0|    1|     0|    0|       1|     1|      0|     0|   0|          0|  0|      0|      0|        0|                 0|    3|\n",
            "|  640|1995|         714|    787|  205|  0.90175|          china|       771|Gate of Heavenly ...|         Documentary| 113147| 52059.0|               81| 3.753086419753086|        0|        0|       0|     0|      0|      0|    0|     0|    0|       0|     0|      0|     0|   0|          1|  0|      0|      0|        0|                 0|    3|\n",
            "| 9365|2012|       11092|  96281|  969|    0.993|    stop motion|     18345|   ParaNorman (2012)|Adventure|Animati...|1623288| 77174.0|             1158|3.4503454231433506|        1|        1|       0|     1|      0|      0|    0|     0|    0|       0|     0|      0|     0|   0|          0|  0|      0|      0|        0|                 0|    3|\n",
            "| 5468|2003|        6256|   7148| 1014|  0.91425|     teen movie|      7023|Love Don't Cost a...|       Drama|Romance| 337592| 21542.0|               95| 2.668421052631579|        0|        0|       0|     0|      0|      1|    1|     0|    0|       0|     0|      0|     0|   0|          0|  0|      0|      0|        0|                 0|    3|\n",
            "| 3974|1980|        4448|   4934| 1082|   0.9985|      vigilante|      4828|Exterminator, The...|Action|Crime|Thri...|  80707| 37835.0|              126|2.6507936507936507|        0|        0|       0|     0|      0|      0|    0|     1|    1|       1|     0|      0|     0|   0|          0|  1|      0|      0|        0|                 0|    3|\n",
            "| 2847|2000|        3184|   3555| 1126|    0.977|           wwii|      3456|        U-571 (2000)| Action|Thriller|War| 141926|  3536.0|             6844|  3.32999707773232|        0|        0|       0|     0|      0|      0|    0|     1|    0|       1|     0|      0|     0|   0|          0|  1|      0|      0|        0|                 0|    3|\n",
            "| 4000|2001|        4476|   4963|  498|  0.99725|          heist|      4857|Ocean's Eleven (2...|      Crime|Thriller| 240772|   161.0|            31775|  3.80918961447679|        0|        0|       0|     0|      0|      0|    0|     0|    1|       1|     0|      0|     0|   0|          0|  0|      0|      0|        0|                 0|    3|\n",
            "|11701|2018|       13557| 187595|  943|    0.938|    space opera|     50342|Solo: A Star Wars...|Action|Adventure|...|3778644|348350.0|             1508| 3.389588859416446|        1|        0|       1|     0|      0|      0|    0|     1|    0|       0|     0|      0|     1|   0|          0|  0|      0|      0|        0|                 0|    3|\n",
            "| 4581|1981|        5168|   5781|  905|   0.9775|            sex|      5669|Private Lessons (...|              Comedy|  82948| 41280.0|               74|               2.5|        0|        0|       0|     1|      0|      0|    0|     0|    0|       0|     0|      0|     0|   0|          0|  0|      0|      0|        0|                 0|    3|\n",
            "|11442|2011|       13293| 174487|  827|    0.902|        puppets|     44564|Don't Hug Me, I'm...|Animation|Fantasy...|2501618|127144.0|               91|3.6538461538461537|        0|        1|       0|     0|      1|      0|    0|     0|    0|       0|     1|      0|     0|   0|          0|  0|      0|      0|        0|                 0|    3|\n",
            "| 8359|2009|        9886|  70344|   18|  0.89675|         absurd|     13580|   Cold Souls (2009)|        Comedy|Drama|1127877| 30250.0|              167|3.2964071856287425|        0|        0|       0|     1|      0|      0|    1|     0|    0|       0|     0|      0|     0|   0|          0|  0|      0|      0|        0|                 0|    3|\n",
            "| 5306|1969|        6044|   6893|  498|  0.99525|          heist|      6770|Italian Job, The ...| Action|Comedy|Crime|  64505| 10536.0|             2212|3.6301989150090415|        0|        0|       0|     1|      0|      0|    0|     1|    1|       0|     0|      0|     0|   0|          0|  0|      0|      0|        0|                 0|    3|\n",
            "|11337|1981|       13186| 170597|  869|   0.9855|        russian|     42756|A Plasticine Crow...|           Animation| 219251|129229.0|               50|              3.75|        0|        1|       0|     0|      0|      0|    0|     0|    0|       0|     0|      0|     0|   0|          0|  0|      0|      0|        0|                 0|    3|\n",
            "|11781|2018|       13639| 192307|   19|    0.754|         action|     52351|      The Meg (2018)|Action|Horror|Sci...|4779682|345940.0|              405|  2.78641975308642|        0|        0|       0|     0|      0|      0|    0|     1|    0|       1|     1|      0|     1|   0|          0|  0|      0|      0|        0|                 0|    3|\n",
            "|10338|2014|       12175| 127319| 1051|   0.9565| twists & turns|     26090|     The Loft (2014)|            Thriller|1850397| 72784.0|              180|3.1444444444444444|        0|        0|       0|     0|      0|      0|    0|     0|    0|       1|     0|      0|     0|   0|          0|  0|      0|      0|        0|                 0|    3|\n",
            "| 8379|2008|        9908|  70726|  971|    0.805|          story|     13647|    Adoration (2008)|               Drama|1074929|  8895.0|               45| 2.966666666666667|        0|        0|       0|     0|      0|      0|    1|     0|    0|       0|     0|      0|     0|   0|          0|  0|      0|      0|        0|                 0|    3|\n",
            "| 2821|1984|        3157|   3525|  230|   0.9505|         comedy|      3427|Bachelor Party (1...|              Comedy|  86927| 12309.0|             1851|3.0502431118314424|        0|        0|       0|     1|      0|      0|    0|     0|    0|       0|     0|      0|     0|   0|          0|  0|      0|      0|        0|                 0|    3|\n",
            "| 4230|2002|        4750|   5282|  598|  0.99375|        lawyers|      5174|  High Crimes (2002)|            Thriller| 257756| 11560.0|              877| 3.185290763968073|        0|        0|       0|     0|      0|      0|    0|     0|    0|       1|     0|      0|     0|   0|          0|  0|      0|      0|        0|                 0|    3|\n",
            "|10836|2005|       12679| 146329|  107|  0.99025|based on a book|     33286|The Master and Ma...|Drama|Mystery|Rom...| 403783| 51129.0|               59|3.6186440677966094|        0|        0|       0|     0|      0|      1|    1|     0|    0|       0|     0|      1|     0|   0|          0|  0|      0|      0|        0|                 0|    3|\n",
            "| 7838|2008|        9256|  58293|  377|    0.962|        fantasy|     12177|    10,000 BC (2008)|Adventure|Romance...| 443649|  7840.0|             2532| 2.531200631911533|        1|        0|       0|     0|      0|      1|    0|     0|    0|       1|     0|      0|     0|   0|          0|  0|      0|      0|        0|                 0|    3|\n",
            "+-----+----+------------+-------+-----+---------+---------------+----------+--------------------+--------------------+-------+--------+-----------------+------------------+---------+---------+--------+------+-------+-------+-----+------+-----+--------+------+-------+------+----+-----------+---+-------+-------+---------+------------------+-----+\n",
            "only showing top 20 rows\n",
            "\n"
          ]
        }
      ]
    },
    {
      "cell_type": "code",
      "source": [
        "# Store environmental variable\n",
        "from getpass import getpass\n",
        "password = getpass('Enter database password')\n",
        "# Configure settings for RDS\n",
        "mode = \"append\"\n",
        "jdbc_url=\"jdbc:postgresql://movie-project.cc10tszik781.us-east-1.rds.amazonaws.com:5432/movies\"\n",
        "config = {\"user\":\"postgres\",\n",
        "          \"password\": password,\n",
        "          \"driver\":\"org.postgresql.Driver\"}"
      ],
      "metadata": {
        "colab": {
          "base_uri": "https://localhost:8080/"
        },
        "id": "XBz5ZhYirvrh",
        "outputId": "00ca0963-3ba4-48d0-c6b0-15e722d042e4"
      },
      "execution_count": 6,
      "outputs": [
        {
          "name": "stdout",
          "output_type": "stream",
          "text": [
            "Enter database password··········\n"
          ]
        }
      ]
    },
    {
      "cell_type": "code",
      "source": [
        "# Write review_id_df to table in RDS\n",
        "sample_data_df.write.jdbc(url=jdbc_url, table='sample_table', mode=mode, properties=config)"
      ],
      "metadata": {
        "id": "Ba5hOuzAs5Yx"
      },
      "execution_count": 7,
      "outputs": []
    }
  ]
}
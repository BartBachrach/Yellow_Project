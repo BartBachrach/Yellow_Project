{
  "nbformat": 4,
  "nbformat_minor": 0,
  "metadata": {
    "colab": {
      "name": "movie_data.ipynb",
      "provenance": [],
      "collapsed_sections": [],
      "authorship_tag": "ABX9TyNhFTlKhYBMv4hOSZ/2yxk4",
      "include_colab_link": true
    },
    "kernelspec": {
      "name": "python3",
      "display_name": "Python 3"
    },
    "language_info": {
      "name": "python"
    }
  },
  "cells": [
    {
      "cell_type": "markdown",
      "metadata": {
        "id": "view-in-github",
        "colab_type": "text"
      },
      "source": [
        "<a href=\"https://colab.research.google.com/github/BartBachrach/Yellow_Project/blob/Database/movie_data.ipynb\" target=\"_parent\"><img src=\"https://colab.research.google.com/assets/colab-badge.svg\" alt=\"Open In Colab\"/></a>"
      ]
    },
    {
      "cell_type": "code",
      "execution_count": 4,
      "metadata": {
        "id": "XHJMmT3tU8RC",
        "colab": {
          "base_uri": "https://localhost:8080/"
        },
        "outputId": "c96d78cc-3869-476c-a80a-8ba861703bd9"
      },
      "outputs": [
        {
          "output_type": "stream",
          "name": "stdout",
          "text": [
            "Hit:1 https://cloud.r-project.org/bin/linux/ubuntu bionic-cran40/ InRelease\n",
            "Ign:2 https://developer.download.nvidia.com/compute/machine-learning/repos/ubuntu1804/x86_64  InRelease\n",
            "Hit:3 https://developer.download.nvidia.com/compute/cuda/repos/ubuntu1804/x86_64  InRelease\n",
            "Hit:4 https://developer.download.nvidia.com/compute/machine-learning/repos/ubuntu1804/x86_64  Release\n",
            "Hit:5 http://archive.ubuntu.com/ubuntu bionic InRelease\n",
            "Get:6 http://security.ubuntu.com/ubuntu bionic-security InRelease [88.7 kB]\n",
            "Hit:7 http://ppa.launchpad.net/c2d4u.team/c2d4u4.0+/ubuntu bionic InRelease\n",
            "Hit:8 http://archive.ubuntu.com/ubuntu bionic-updates InRelease\n",
            "Hit:9 http://archive.ubuntu.com/ubuntu bionic-backports InRelease\n",
            "Hit:10 http://ppa.launchpad.net/cran/libgit2/ubuntu bionic InRelease\n",
            "Hit:11 http://ppa.launchpad.net/deadsnakes/ppa/ubuntu bionic InRelease\n",
            "Hit:13 http://ppa.launchpad.net/graphics-drivers/ppa/ubuntu bionic InRelease\n",
            "Fetched 88.7 kB in 3s (32.9 kB/s)\n",
            "Reading package lists... Done\n"
          ]
        }
      ],
      "source": [
        "import os\n",
        "# Find the latest version of spark 3.0 from http://www.apache.org/dist/spark/ and enter as the spark version\n",
        "# For example:\n",
        "# spark_version = 'spark-3.0.3'\n",
        "spark_version = 'spark-3.1.3'\n",
        "os.environ['SPARK_VERSION']=spark_version\n",
        "\n",
        "# Install Spark and Java\n",
        "!apt-get update\n",
        "!apt-get install openjdk-11-jdk-headless -qq > /dev/null\n",
        "!wget -q http://www.apache.org/dist/spark/$SPARK_VERSION/$SPARK_VERSION-bin-hadoop2.7.tgz\n",
        "!tar xf $SPARK_VERSION-bin-hadoop2.7.tgz\n",
        "!pip install -q findspark\n",
        "\n",
        "# Set Environment Variables\n",
        "import os\n",
        "os.environ[\"JAVA_HOME\"] = \"/usr/lib/jvm/java-11-openjdk-amd64\"\n",
        "os.environ[\"SPARK_HOME\"] = f\"/content/{spark_version}-bin-hadoop2.7\"\n",
        "\n",
        "# Start a SparkSession\n",
        "import findspark\n",
        "findspark.init()"
      ]
    },
    {
      "cell_type": "code",
      "source": [
        "!wget https://jdbc.postgresql.org/download/postgresql-42.2.16.jar"
      ],
      "metadata": {
        "colab": {
          "base_uri": "https://localhost:8080/"
        },
        "id": "Csvhd1gZipkM",
        "outputId": "2cf817e6-cfe7-4a97-9ded-2293585fcdaf"
      },
      "execution_count": 5,
      "outputs": [
        {
          "output_type": "stream",
          "name": "stdout",
          "text": [
            "--2022-08-15 20:54:05--  https://jdbc.postgresql.org/download/postgresql-42.2.16.jar\n",
            "Resolving jdbc.postgresql.org (jdbc.postgresql.org)... 72.32.157.228, 2001:4800:3e1:1::228\n",
            "Connecting to jdbc.postgresql.org (jdbc.postgresql.org)|72.32.157.228|:443... connected.\n",
            "HTTP request sent, awaiting response... 200 OK\n",
            "Length: 1002883 (979K) [application/java-archive]\n",
            "Saving to: ‘postgresql-42.2.16.jar’\n",
            "\n",
            "postgresql-42.2.16. 100%[===================>] 979.38K  4.90MB/s    in 0.2s    \n",
            "\n",
            "2022-08-15 20:54:06 (4.90 MB/s) - ‘postgresql-42.2.16.jar’ saved [1002883/1002883]\n",
            "\n"
          ]
        }
      ]
    },
    {
      "cell_type": "code",
      "source": [
        "from pyspark.sql import SparkSession\n",
        "spark = SparkSession.builder.appName(\"Movie-Recs\").config(\"spark.driver.extraClassPath\",\"/content/postgresql-42.2.16.jar\").getOrCreate()"
      ],
      "metadata": {
        "id": "s0RkcREIoi1N"
      },
      "execution_count": 6,
      "outputs": []
    },
    {
      "cell_type": "code",
      "source": [
        "# Read in data from S3 Buckets\n",
        "from pyspark import SparkFiles\n",
        "url =\"https://yellow-movie-data.s3.amazonaws.com/sample_table2.csv\"\n",
        "spark.sparkContext.addFile(url)\n",
        "sample_data_df = spark.read.csv(SparkFiles.get(\"sample_table2.csv\"), sep=\",\", header=True, inferSchema=True)"
      ],
      "metadata": {
        "id": "YT5OOJV8o9PJ"
      },
      "execution_count": 7,
      "outputs": []
    },
    {
      "cell_type": "code",
      "source": [
        "# Show DataFrame\n",
        "sample_data_df.show(5)"
      ],
      "metadata": {
        "colab": {
          "base_uri": "https://localhost:8080/"
        },
        "id": "kGg0bbbOrpWI",
        "outputId": "8621b1a8-f515-46ab-bb0e-5eecbd4be246"
      },
      "execution_count": 8,
      "outputs": [
        {
          "output_type": "stream",
          "name": "stdout",
          "text": [
            "+----+----+------------+-------+-----+---------+-----------+----------+--------------------+--------------------+-------+-------+-----------------+------------------+---------+---------+--------+------+-------+-------+-----+------+-----+--------+------+-------+------+----+-----------+---+-------+-------+---------+------------------+-----+\n",
            "| _c0|year|Unnamed: 0.1|movieId|tagId|relevance|        tag|Unnamed: 0|               title|              genres| imdbId| tmdbId|number of ratings|            rating|Adventure|Animation|Children|Comedy|Fantasy|Romance|Drama|Action|Crime|Thriller|Horror|Mystery|Sci-Fi|IMAX|Documentary|War|Musical|Western|Film-Noir|(no genres listed)|class|\n",
            "+----+----+------------+-------+-----+---------+-----------+----------+--------------------+--------------------+-------+-------+-----------------+------------------+---------+---------+--------+------+-------+-------+-----+------+-----+--------+------+-------+------+----+-----------+---+-------+-------+---------+------------------+-----+\n",
            "|7808|2008|        9218|  57534|  849|  0.99625|     remake|     12098|     Eye, The (2008)|Drama|Horror|Thri...| 406759| 9030.0|              424|2.6214622641509435|        0|        0|       0|     0|      0|      0|    1|     0|    0|       1|     1|      0|     0|   0|          0|  0|      0|      0|        0|                 0|    3|\n",
            "| 640|1995|         714|    787|  205|  0.90175|      china|       771|Gate of Heavenly ...|         Documentary| 113147|52059.0|               81| 3.753086419753086|        0|        0|       0|     0|      0|      0|    0|     0|    0|       0|     0|      0|     0|   0|          1|  0|      0|      0|        0|                 0|    3|\n",
            "|9365|2012|       11092|  96281|  969|    0.993|stop motion|     18345|   ParaNorman (2012)|Adventure|Animati...|1623288|77174.0|             1158|3.4503454231433506|        1|        1|       0|     1|      0|      0|    0|     0|    0|       0|     0|      0|     0|   0|          0|  0|      0|      0|        0|                 0|    3|\n",
            "|5468|2003|        6256|   7148| 1014|  0.91425| teen movie|      7023|Love Don't Cost a...|       Drama|Romance| 337592|21542.0|               95| 2.668421052631579|        0|        0|       0|     0|      0|      1|    1|     0|    0|       0|     0|      0|     0|   0|          0|  0|      0|      0|        0|                 0|    3|\n",
            "|3974|1980|        4448|   4934| 1082|   0.9985|  vigilante|      4828|Exterminator, The...|Action|Crime|Thri...|  80707|37835.0|              126|2.6507936507936507|        0|        0|       0|     0|      0|      0|    0|     1|    1|       1|     0|      0|     0|   0|          0|  1|      0|      0|        0|                 0|    3|\n",
            "+----+----+------------+-------+-----+---------+-----------+----------+--------------------+--------------------+-------+-------+-----------------+------------------+---------+---------+--------+------+-------+-------+-----+------+-----+--------+------+-------+------+----+-----------+---+-------+-------+---------+------------------+-----+\n",
            "only showing top 5 rows\n",
            "\n"
          ]
        }
      ]
    },
    {
      "cell_type": "code",
      "source": [
        "# Read in data from S3 Buckets\n",
        "from pyspark import SparkFiles\n",
        "url =\"https://yellow-movie-data.s3.amazonaws.com/website_df.csv\"\n",
        "spark.sparkContext.addFile(url)\n",
        "full_data_df = spark.read.csv(SparkFiles.get(\"website_df.csv\"), sep=\",\", header=True, inferSchema=True)"
      ],
      "metadata": {
        "id": "XuTnyl-hOil0"
      },
      "execution_count": 9,
      "outputs": []
    },
    {
      "cell_type": "code",
      "source": [
        "full_data_df.show(5)"
      ],
      "metadata": {
        "colab": {
          "base_uri": "https://localhost:8080/"
        },
        "id": "OHYS3r5eO7Og",
        "outputId": "cd81519d-20b6-4687-d05d-216ff6b39c5d"
      },
      "execution_count": 10,
      "outputs": [
        {
          "output_type": "stream",
          "name": "stdout",
          "text": [
            "+---+----+------------+-------+-----+---------+---------+----------+--------------------+--------------------+------+-------+-----------------+------------------+---------+---------+--------+------+-------+-------+-----+------+-----+--------+------+-------+------+----+-----------+---+-------+-------+---------+------------------+-----+\n",
            "|_c0|year|Unnamed: 0.1|movieId|tagId|relevance|      tag|Unnamed: 0|               title|              genres|imdbId| tmdbId|number of ratings|            rating|Adventure|Animation|Children|Comedy|Fantasy|Romance|Drama|Action|Crime|Thriller|Horror|Mystery|Sci-Fi|IMAX|Documentary|War|Musical|Western|Film-Noir|(no genres listed)|class|\n",
            "+---+----+------------+-------+-----+---------+---------+----------+--------------------+--------------------+------+-------+-----------------+------------------+---------+---------+--------+------+-------+-------+-----+------+-----+--------+------+-------+------+----+-----------+---+-------+-------+---------+------------------+-----+\n",
            "|  0|1995|           0|      1| 1036|  0.99925|     toys|         0|    Toy Story (1995)|Adventure|Animati...|114709|  862.0|            57309| 3.893707794587238|        1|        1|       1|     1|      1|      0|    0|     0|    0|       0|     0|      0|     0|   0|          0|  0|      0|      0|        0|                 0|    3|\n",
            "|  1|1995|           1|      2|   29|    0.976|adventure|         1|      Jumanji (1995)|Adventure|Childre...|113497| 8844.0|            24228|3.2515271586594023|        1|        0|       1|     0|      1|      0|    0|     0|    0|       0|     0|      0|     0|   0|          0|  0|      0|      0|        0|                 0|    3|\n",
            "|  2|1995|           2|      3|  901|  0.97525|   sequel|         2|Grumpier Old Men ...|      Comedy|Romance|113228|15602.0|            11804| 3.142028126058963|        0|        0|       0|     1|      0|      1|    0|     0|    0|       0|     0|      0|     0|   0|          0|  0|      0|      0|        0|                 0|    3|\n",
            "|  3|1995|           3|      4| 1116|  0.97525|    women|         3|Waiting to Exhale...|Comedy|Drama|Romance|114885|31357.0|             2523|  2.85354736424891|        0|        0|       0|     1|      0|      1|    1|     0|    0|       0|     0|      0|     0|   0|          0|  0|      0|      0|        0|                 0|    3|\n",
            "|  4|1995|           4|      5|  901|  0.96025|   sequel|         4|Father of the Bri...|              Comedy|113041|11862.0|            11714| 3.058434352057368|        0|        0|       0|     1|      0|      0|    0|     0|    0|       0|     0|      0|     0|   0|          0|  0|      0|      0|        0|                 0|    3|\n",
            "+---+----+------------+-------+-----+---------+---------+----------+--------------------+--------------------+------+-------+-----------------+------------------+---------+---------+--------+------+-------+-------+-----+------+-----+--------+------+-------+------+----+-----------+---+-------+-------+---------+------------------+-----+\n",
            "only showing top 5 rows\n",
            "\n"
          ]
        }
      ]
    },
    {
      "cell_type": "code",
      "source": [
        "# Store environmental variable\n",
        "from getpass import getpass\n",
        "password = getpass('Enter database password')\n",
        "# Configure settings for RDS\n",
        "mode = \"append\"\n",
        "jdbc_url=\"jdbc:postgresql://movie-project.cc10tszik781.us-east-1.rds.amazonaws.com:5432/movies\"\n",
        "config = {\"user\":\"postgres\",\n",
        "          \"password\": password,\n",
        "          \"driver\":\"org.postgresql.Driver\"}"
      ],
      "metadata": {
        "colab": {
          "base_uri": "https://localhost:8080/"
        },
        "id": "XBz5ZhYirvrh",
        "outputId": "d9dae313-f259-4cd5-8041-6bc7c50080d6"
      },
      "execution_count": 11,
      "outputs": [
        {
          "name": "stdout",
          "output_type": "stream",
          "text": [
            "Enter database password··········\n"
          ]
        }
      ]
    },
    {
      "cell_type": "code",
      "source": [
        "# Write review_id_df to table in RDS\n",
        "sample_data_df.write.jdbc(url=jdbc_url, table='sample_table', mode=mode, properties=config)"
      ],
      "metadata": {
        "id": "Ba5hOuzAs5Yx"
      },
      "execution_count": null,
      "outputs": []
    },
    {
      "cell_type": "code",
      "source": [
        "# Write review_id_df to table in RDS\n",
        "full_data_df.write.jdbc(url=jdbc_url, table='full_table', mode=mode, properties=config)"
      ],
      "metadata": {
        "id": "krZvpDUNO6aY"
      },
      "execution_count": 12,
      "outputs": []
    }
  ]
}